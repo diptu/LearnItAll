{
  "nbformat": 4,
  "nbformat_minor": 0,
  "metadata": {
    "colab": {
      "provenance": []
    },
    "kernelspec": {
      "name": "python3",
      "display_name": "Python 3"
    },
    "language_info": {
      "name": "python"
    }
  },
  "cells": [
    {
      "cell_type": "markdown",
      "source": [
        "https://datahacker.rs/002-pytorch-what-are-tensors-in-pytorch-1-3/\n",
        "\n",
        "```\n",
        "# Creating tensors in PyTorch\n",
        "```\n",
        "\n"
      ],
      "metadata": {
        "id": "RFBzvtrjVXdf"
      }
    },
    {
      "cell_type": "markdown",
      "source": [],
      "metadata": {
        "id": "bK3T8cn_Vom3"
      }
    },
    {
      "cell_type": "code",
      "execution_count": 1,
      "metadata": {
        "colab": {
          "base_uri": "https://localhost:8080/"
        },
        "id": "JEKbwaysTI0c",
        "outputId": "8adfb69c-534c-4bf6-ccc1-403b2a5296a7"
      },
      "outputs": [
        {
          "output_type": "stream",
          "name": "stdout",
          "text": [
            "2.5.1+cu121\n"
          ]
        }
      ],
      "source": [
        "import torch\n",
        "print(torch.__version__)"
      ]
    },
    {
      "cell_type": "code",
      "source": [
        "# Create a 1D Tensor/Vector\n",
        "vector_data = [2,3,5,7,11]\n",
        "vector = torch.tensor(vector_data)\n",
        "print(vector, end='\\n\\n')"
      ],
      "metadata": {
        "colab": {
          "base_uri": "https://localhost:8080/"
        },
        "id": "IKK3mSZ2TTg5",
        "outputId": "eb8d0238-1f98-45ca-b6b9-fc9a2cdc5bdd"
      },
      "execution_count": 2,
      "outputs": [
        {
          "output_type": "stream",
          "name": "stdout",
          "text": [
            "tensor([ 2,  3,  5,  7, 11])\n",
            "\n"
          ]
        }
      ]
    },
    {
      "cell_type": "code",
      "source": [
        "# Create a 2D Tensor of size 2x3\n",
        "matrix_data = [[1,2,3],[4,5,6]]\n",
        "matrix = torch.tensor(matrix_data)\n",
        "print(matrix, end='\\n\\n')"
      ],
      "metadata": {
        "colab": {
          "base_uri": "https://localhost:8080/"
        },
        "id": "S6-I2WFfT4HO",
        "outputId": "9140daba-c8da-4bb5-cb92-de7372519548"
      },
      "execution_count": 3,
      "outputs": [
        {
          "output_type": "stream",
          "name": "stdout",
          "text": [
            "tensor([[1, 2, 3],\n",
            "        [4, 5, 6]])\n",
            "\n"
          ]
        }
      ]
    },
    {
      "cell_type": "code",
      "source": [
        "# Create a 3D Tensor of size 3x2x2\n",
        "Tensor_data = [[[20., 40.], [60., 80.]],\n",
        "          [[100., 120.], [140., 160.]],\n",
        "          [[180., 200.], [220., 240.]]]\n",
        "Tensor = torch.tensor(Tensor_data)\n",
        "print(Tensor, end='\\n\\n')"
      ],
      "metadata": {
        "colab": {
          "base_uri": "https://localhost:8080/"
        },
        "id": "QNJyo-CAUPQl",
        "outputId": "088b5200-ab8c-4d2b-c3f3-35bb328686cf"
      },
      "execution_count": 4,
      "outputs": [
        {
          "output_type": "stream",
          "name": "stdout",
          "text": [
            "tensor([[[ 20.,  40.],\n",
            "         [ 60.,  80.]],\n",
            "\n",
            "        [[100., 120.],\n",
            "         [140., 160.]],\n",
            "\n",
            "        [[180., 200.],\n",
            "         [220., 240.]]])\n",
            "\n"
          ]
        }
      ]
    },
    {
      "cell_type": "markdown",
      "source": [
        "```\n",
        "# Indexing using PyTorch\n",
        "```\n",
        "\n"
      ],
      "metadata": {
        "id": "AUjSwyN3VdMM"
      }
    },
    {
      "cell_type": "code",
      "source": [
        "# Indexing into vector and get a scalar\n",
        "print(vector[0],'\\n')\n",
        "\n",
        "# Get a Python number from it\n",
        "print(vector[0].item())"
      ],
      "metadata": {
        "colab": {
          "base_uri": "https://localhost:8080/"
        },
        "id": "3nzZxthVUZBq",
        "outputId": "321f5451-0c01-456b-c79f-1c34d5b2e969"
      },
      "execution_count": 5,
      "outputs": [
        {
          "output_type": "stream",
          "name": "stdout",
          "text": [
            "tensor(2) \n",
            "\n",
            "2\n"
          ]
        }
      ]
    },
    {
      "cell_type": "code",
      "source": [
        "# Indexing into Matrix and get a vector\n",
        "print(matrix[0],end='\\n\\n')\n",
        "\n",
        "# Indexing into Tensor and get a matrix\n",
        "print(Tensor[0])"
      ],
      "metadata": {
        "colab": {
          "base_uri": "https://localhost:8080/"
        },
        "id": "bgEsY3CaWF5O",
        "outputId": "80b39dde-7e89-4725-e969-f8b2adfae871"
      },
      "execution_count": 6,
      "outputs": [
        {
          "output_type": "stream",
          "name": "stdout",
          "text": [
            "tensor([1, 2, 3])\n",
            "\n",
            "tensor([[20., 40.],\n",
            "        [60., 80.]])\n"
          ]
        }
      ]
    },
    {
      "cell_type": "code",
      "source": [],
      "metadata": {
        "id": "rj6ckmryWcLy"
      },
      "execution_count": 6,
      "outputs": []
    },
    {
      "cell_type": "markdown",
      "source": [
        "```\n",
        "# Operations with Tensors\n",
        "```"
      ],
      "metadata": {
        "id": "foE-17jTsCMh"
      }
    },
    {
      "cell_type": "code",
      "source": [
        "x = torch.tensor([1,0])\n",
        "y = torch.tensor([3,4])"
      ],
      "metadata": {
        "id": "XzfYQpDluedK"
      },
      "execution_count": 7,
      "outputs": []
    },
    {
      "cell_type": "code",
      "source": [
        "# Addition\n",
        "\n",
        "print(torch.add(x,y),end='\\n\\n')\n",
        "\n",
        "z = x+y\n",
        "print(z)"
      ],
      "metadata": {
        "colab": {
          "base_uri": "https://localhost:8080/"
        },
        "id": "C3tEDk29sEv-",
        "outputId": "35637937-b1e4-4153-fa2e-c69da0b8ea8c"
      },
      "execution_count": 8,
      "outputs": [
        {
          "output_type": "stream",
          "name": "stdout",
          "text": [
            "tensor([4, 4])\n",
            "\n",
            "tensor([4, 4])\n"
          ]
        }
      ]
    },
    {
      "cell_type": "code",
      "source": [
        "# Subtruction\n",
        "print(torch.sub(y,x),end='\\n\\n')\n",
        "\n",
        "z =y-x\n",
        "print(z)"
      ],
      "metadata": {
        "colab": {
          "base_uri": "https://localhost:8080/"
        },
        "id": "DKuoBz0QsRTA",
        "outputId": "3bf3117c-c286-49cd-cac8-544dae833bf9"
      },
      "execution_count": 9,
      "outputs": [
        {
          "output_type": "stream",
          "name": "stdout",
          "text": [
            "tensor([2, 4])\n",
            "\n",
            "tensor([2, 4])\n"
          ]
        }
      ]
    },
    {
      "cell_type": "code",
      "source": [
        "print(torch.mul(x,y),end='\\n\\n')\n",
        "\n",
        "z = x*y\n",
        "print(z)"
      ],
      "metadata": {
        "colab": {
          "base_uri": "https://localhost:8080/"
        },
        "id": "JegjlPMPsefy",
        "outputId": "60be60e7-561c-4e74-edc2-2e98c3c2170f"
      },
      "execution_count": 10,
      "outputs": [
        {
          "output_type": "stream",
          "name": "stdout",
          "text": [
            "tensor([3, 0])\n",
            "\n",
            "tensor([3, 0])\n"
          ]
        }
      ]
    },
    {
      "cell_type": "code",
      "source": [
        "print(torch.div(x,y),end='\\n\\n')\n",
        "\n",
        "z = y/x\n",
        "print(z)"
      ],
      "metadata": {
        "colab": {
          "base_uri": "https://localhost:8080/"
        },
        "id": "MP8v8L5YuPMm",
        "outputId": "52727d2b-165b-434c-83b0-78cbbd415df6"
      },
      "execution_count": 11,
      "outputs": [
        {
          "output_type": "stream",
          "name": "stdout",
          "text": [
            "tensor([0.3333, 0.0000])\n",
            "\n",
            "tensor([3., inf])\n"
          ]
        }
      ]
    },
    {
      "cell_type": "code",
      "source": [
        "# Concatenate columns: Row-wise, axis=0 is by default.\n",
        "a_1 = torch.randn(2, 2)\n",
        "b_1 = torch.randn(2, 2)\n",
        "print(a_1 ,'\\n\\n', b_1,'\\n\\n')\n",
        "c_1 = torch.cat([a_1, b_1], axis=0)\n",
        "print(c_1)\n"
      ],
      "metadata": {
        "colab": {
          "base_uri": "https://localhost:8080/"
        },
        "id": "x6ocvaoZuVDR",
        "outputId": "c1692eb7-ddde-4846-aaaf-4c14ef3bcbe3"
      },
      "execution_count": 12,
      "outputs": [
        {
          "output_type": "stream",
          "name": "stdout",
          "text": [
            "tensor([[0.1736, 1.1388],\n",
            "        [1.0952, 0.3122]]) \n",
            "\n",
            " tensor([[-0.2539,  0.7048],\n",
            "        [ 0.4776,  0.0152]]) \n",
            "\n",
            "\n",
            "tensor([[ 0.1736,  1.1388],\n",
            "        [ 1.0952,  0.3122],\n",
            "        [-0.2539,  0.7048],\n",
            "        [ 0.4776,  0.0152]])\n"
          ]
        }
      ]
    },
    {
      "cell_type": "code",
      "source": [
        "# Concatenate columns: Column-wise, axis=1.\n",
        "c_1 = torch.cat([a_1, b_1], axis=1)\n",
        "print(c_1)"
      ],
      "metadata": {
        "colab": {
          "base_uri": "https://localhost:8080/"
        },
        "id": "FfEzXvTovIM4",
        "outputId": "122bb1dd-7be7-4600-f0eb-98f3da0c7440"
      },
      "execution_count": 13,
      "outputs": [
        {
          "output_type": "stream",
          "name": "stdout",
          "text": [
            "tensor([[ 0.1736,  1.1388, -0.2539,  0.7048],\n",
            "        [ 1.0952,  0.3122,  0.4776,  0.0152]])\n"
          ]
        }
      ]
    },
    {
      "cell_type": "markdown",
      "source": [
        "```\n",
        "# Reshaping Tensors\n",
        "```"
      ],
      "metadata": {
        "id": "tsJBmI52xgAv"
      }
    },
    {
      "cell_type": "code",
      "source": [
        "x = torch.randn(3, 8)\n",
        "print(x)\n",
        "print(x.shape)"
      ],
      "metadata": {
        "colab": {
          "base_uri": "https://localhost:8080/"
        },
        "id": "7s3GSwoevpGC",
        "outputId": "5301098e-d3c8-46b6-ff4f-43cce3228f33"
      },
      "execution_count": 14,
      "outputs": [
        {
          "output_type": "stream",
          "name": "stdout",
          "text": [
            "tensor([[-1.4940, -0.4810, -2.2394, -0.8013, -0.6403,  0.6742,  0.6646,  0.5300],\n",
            "        [ 1.0057,  0.0970,  0.1667, -1.6581, -0.3347, -0.2616, -0.0131,  1.2536],\n",
            "        [-0.8892,  1.6404,  0.2120, -0.9741, -0.0430, -0.0700, -0.0742, -0.7920]])\n",
            "torch.Size([3, 8])\n"
          ]
        }
      ]
    },
    {
      "cell_type": "code",
      "source": [
        "y = x.view(4,6) # Reshape to 4 rows, 6 columns\n",
        "print(y)\n",
        "print(y.shape)"
      ],
      "metadata": {
        "colab": {
          "base_uri": "https://localhost:8080/"
        },
        "id": "IQIuTMMoxinj",
        "outputId": "df9ec902-195d-43f2-e008-738db19618e5"
      },
      "execution_count": 15,
      "outputs": [
        {
          "output_type": "stream",
          "name": "stdout",
          "text": [
            "tensor([[-1.4940, -0.4810, -2.2394, -0.8013, -0.6403,  0.6742],\n",
            "        [ 0.6646,  0.5300,  1.0057,  0.0970,  0.1667, -1.6581],\n",
            "        [-0.3347, -0.2616, -0.0131,  1.2536, -0.8892,  1.6404],\n",
            "        [ 0.2120, -0.9741, -0.0430, -0.0700, -0.0742, -0.7920]])\n",
            "torch.Size([4, 6])\n"
          ]
        }
      ]
    },
    {
      "cell_type": "code",
      "source": [
        "# Same as above. If one of the dimensions is -1, its size can be deduced\n",
        "print(x.view(4, -1))"
      ],
      "metadata": {
        "colab": {
          "base_uri": "https://localhost:8080/"
        },
        "id": "8t1thQyextDP",
        "outputId": "4f6daf21-0f71-4ace-c66d-a919fcff208a"
      },
      "execution_count": 16,
      "outputs": [
        {
          "output_type": "stream",
          "name": "stdout",
          "text": [
            "tensor([[-1.4940, -0.4810, -2.2394, -0.8013, -0.6403,  0.6742],\n",
            "        [ 0.6646,  0.5300,  1.0057,  0.0970,  0.1667, -1.6581],\n",
            "        [-0.3347, -0.2616, -0.0131,  1.2536, -0.8892,  1.6404],\n",
            "        [ 0.2120, -0.9741, -0.0430, -0.0700, -0.0742, -0.7920]])\n"
          ]
        }
      ]
    },
    {
      "cell_type": "code",
      "source": [
        "print(x.view(-1, 4))"
      ],
      "metadata": {
        "colab": {
          "base_uri": "https://localhost:8080/"
        },
        "id": "XR-cb7F9zO4b",
        "outputId": "3682a58b-aab3-47d6-c594-dbc8a3a3f50b"
      },
      "execution_count": 17,
      "outputs": [
        {
          "output_type": "stream",
          "name": "stdout",
          "text": [
            "tensor([[-1.4940, -0.4810, -2.2394, -0.8013],\n",
            "        [-0.6403,  0.6742,  0.6646,  0.5300],\n",
            "        [ 1.0057,  0.0970,  0.1667, -1.6581],\n",
            "        [-0.3347, -0.2616, -0.0131,  1.2536],\n",
            "        [-0.8892,  1.6404,  0.2120, -0.9741],\n",
            "        [-0.0430, -0.0700, -0.0742, -0.7920]])\n"
          ]
        }
      ]
    },
    {
      "cell_type": "markdown",
      "source": [
        "```\n",
        "# NumPy to Torch and back\n",
        "```"
      ],
      "metadata": {
        "id": "Jpt72OeE28Y_"
      }
    },
    {
      "cell_type": "code",
      "source": [
        "import numpy as np # Numerical Python\n",
        "\n",
        "X = np.random.randn(4, 4) # Generate random numbers\n",
        "print(X, end='\\n\\n')\n",
        "print(type(X)) # A numpy array"
      ],
      "metadata": {
        "colab": {
          "base_uri": "https://localhost:8080/"
        },
        "id": "3p9kcjpIzXuJ",
        "outputId": "02e281a7-7b3a-468b-e1f5-b0b1c200ead7"
      },
      "execution_count": 18,
      "outputs": [
        {
          "output_type": "stream",
          "name": "stdout",
          "text": [
            "[[ 0.66263867  0.33556587  0.74894525  2.05107675]\n",
            " [ 1.13056004 -0.18324334  0.2568282   0.57054188]\n",
            " [-1.57063069 -0.43631628  1.16188008 -0.17159912]\n",
            " [ 0.07786757  1.46340837  0.68023812 -0.98010017]]\n",
            "\n",
            "<class 'numpy.ndarray'>\n"
          ]
        }
      ]
    },
    {
      "cell_type": "code",
      "source": [
        "a = torch.from_numpy(X) # Convert to tensor\n",
        "print(a, end='\\n\\n')\n",
        "print(type(a)) # A torch tensor"
      ],
      "metadata": {
        "colab": {
          "base_uri": "https://localhost:8080/"
        },
        "id": "wuMfBrLI3KYf",
        "outputId": "6b40e78f-3575-4e6b-fe9e-682b6dcf532e"
      },
      "execution_count": 19,
      "outputs": [
        {
          "output_type": "stream",
          "name": "stdout",
          "text": [
            "tensor([[ 0.6626,  0.3356,  0.7489,  2.0511],\n",
            "        [ 1.1306, -0.1832,  0.2568,  0.5705],\n",
            "        [-1.5706, -0.4363,  1.1619, -0.1716],\n",
            "        [ 0.0779,  1.4634,  0.6802, -0.9801]], dtype=torch.float64)\n",
            "\n",
            "<class 'torch.Tensor'>\n"
          ]
        }
      ]
    },
    {
      "cell_type": "code",
      "source": [
        "y = a.numpy()# Convert the tensor into NumPy array\n",
        "print(type(y))"
      ],
      "metadata": {
        "colab": {
          "base_uri": "https://localhost:8080/"
        },
        "id": "5OapyOnc3Tq3",
        "outputId": "363c5081-27e6-47b6-c848-7cd71787775b"
      },
      "execution_count": 20,
      "outputs": [
        {
          "output_type": "stream",
          "name": "stdout",
          "text": [
            "<class 'numpy.ndarray'>\n"
          ]
        }
      ]
    },
    {
      "cell_type": "markdown",
      "source": [
        "```\n",
        "# Autograd\n",
        "```"
      ],
      "metadata": {
        "id": "jInAh_Fv4fUJ"
      }
    },
    {
      "cell_type": "code",
      "source": [
        "x = torch.ones(1, requires_grad=True)\n",
        "print(x)"
      ],
      "metadata": {
        "colab": {
          "base_uri": "https://localhost:8080/"
        },
        "id": "RvXI3_Ji3djF",
        "outputId": "64ada9f4-348a-4333-c65e-fbbf929a04bf"
      },
      "execution_count": 21,
      "outputs": [
        {
          "output_type": "stream",
          "name": "stdout",
          "text": [
            "tensor([1.], requires_grad=True)\n"
          ]
        }
      ]
    },
    {
      "cell_type": "code",
      "source": [
        "y = 6*x**2\n",
        "print(y)"
      ],
      "metadata": {
        "colab": {
          "base_uri": "https://localhost:8080/"
        },
        "id": "cgXTUL0L4yyN",
        "outputId": "9182db86-7cff-4fae-fbb2-ac93b60b7645"
      },
      "execution_count": 22,
      "outputs": [
        {
          "output_type": "stream",
          "name": "stdout",
          "text": [
            "tensor([6.], grad_fn=<MulBackward0>)\n"
          ]
        }
      ]
    },
    {
      "cell_type": "code",
      "source": [
        "print(x.grad, end='\\n\\n')\n",
        "# print(y.grad)"
      ],
      "metadata": {
        "colab": {
          "base_uri": "https://localhost:8080/"
        },
        "id": "eUbk5ozy4-H6",
        "outputId": "bce0aa5b-599a-4f63-9508-309f58f269e0"
      },
      "execution_count": 23,
      "outputs": [
        {
          "output_type": "stream",
          "name": "stdout",
          "text": [
            "None\n",
            "\n"
          ]
        }
      ]
    },
    {
      "cell_type": "markdown",
      "source": [
        "`f'(x) = d/dx (6x²) = 2* 6x = 2*6*1 = 12`"
      ],
      "metadata": {
        "id": "ctBaJCIC5plz"
      }
    },
    {
      "cell_type": "code",
      "source": [
        "y.backward() # gradients are computed with respect to our tensor 𝑥 with\n",
        "print(x.grad)"
      ],
      "metadata": {
        "colab": {
          "base_uri": "https://localhost:8080/"
        },
        "id": "d3csJspl5X54",
        "outputId": "3b1ad9cf-ae82-4c96-d5c2-a72e5923f572"
      },
      "execution_count": 24,
      "outputs": [
        {
          "output_type": "stream",
          "name": "stdout",
          "text": [
            "tensor([12.])\n"
          ]
        }
      ]
    },
    {
      "cell_type": "code",
      "source": [],
      "metadata": {
        "id": "ng58HoGZ7Qvr"
      },
      "execution_count": 24,
      "outputs": []
    }
  ]
}