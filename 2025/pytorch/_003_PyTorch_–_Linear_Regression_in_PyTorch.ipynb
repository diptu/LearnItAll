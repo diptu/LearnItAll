{
  "nbformat": 4,
  "nbformat_minor": 0,
  "metadata": {
    "colab": {
      "provenance": []
    },
    "kernelspec": {
      "name": "python3",
      "display_name": "Python 3"
    },
    "language_info": {
      "name": "python"
    }
  },
  "cells": [
    {
      "cell_type": "markdown",
      "source": [
        "\n",
        "[Linear Regression in PyTorch](https://datahacker.rs/003-pytorch-how-to-implement-linear-regression-in-pytorch/)\n"
      ],
      "metadata": {
        "id": "sPl_JD8oRYHk"
      }
    },
    {
      "cell_type": "code",
      "execution_count": 1,
      "metadata": {
        "id": "mNIjytzFGgPT"
      },
      "outputs": [],
      "source": [
        "import numpy as np\n",
        "import matplotlib.pyplot as plt\n",
        "import torch"
      ]
    },
    {
      "cell_type": "code",
      "source": [
        "x_data = np.array([1, 2, 3, 4, 5])\n",
        "y_data = x_data * 2 - np.random.randint(0, 10) * 0.005\n",
        "plt.scatter(x_data, y_data)"
      ],
      "metadata": {
        "colab": {
          "base_uri": "https://localhost:8080/",
          "height": 448
        },
        "id": "AHz_4ewFLAMK",
        "outputId": "207bb89c-a10a-4114-d7ee-3e59b741c3d5"
      },
      "execution_count": 2,
      "outputs": [
        {
          "output_type": "execute_result",
          "data": {
            "text/plain": [
              "<matplotlib.collections.PathCollection at 0x7d6c7c69f640>"
            ]
          },
          "metadata": {},
          "execution_count": 2
        },
        {
          "output_type": "display_data",
          "data": {
            "text/plain": [
              "<Figure size 640x480 with 1 Axes>"
            ],
            "image/png": "[encoded data removed]"
          },
          "metadata": {}
        }
      ]
    },
    {
      "cell_type": "code",
      "source": [
        "print(x_data.shape)\n",
        "print(y_data.shape)"
      ],
      "metadata": {
        "colab": {
          "base_uri": "https://localhost:8080/"
        },
        "id": "QSWWjxiPRJTL",
        "outputId": "ca694a9e-47ac-46a3-9ad3-dbaaec51dffb"
      },
      "execution_count": 3,
      "outputs": [
        {
          "output_type": "stream",
          "name": "stdout",
          "text": [
            "(5,)\n",
            "(5,)\n"
          ]
        }
      ]
    },
    {
      "cell_type": "code",
      "source": [
        "def forward(x,w,b=0):\n",
        "  return  w * x + b\n",
        "\n",
        "def loss(y_hat, y):\n",
        "  return (y_hat - y) ** 2"
      ],
      "metadata": {
        "id": "tOgBnpNALD7G"
      },
      "execution_count": 4,
      "outputs": []
    },
    {
      "cell_type": "code",
      "source": [
        "all_w = []\n",
        "all_loss = []"
      ],
      "metadata": {
        "id": "oCDKu3T-MZIZ"
      },
      "execution_count": 5,
      "outputs": []
    },
    {
      "cell_type": "code",
      "source": [
        "for w in np.arange(0, 4, 0.1): # 0,0.1,0.2,0.3...4\n",
        "  l_sum = 0\n",
        "  for i in range(len(x_data)):\n",
        "    # print(f\" x :{x_data[i]}, w:{ w}\")\n",
        "    y_hat = forward(x_data[i], w)\n",
        "    l = loss(y_hat, y_data[i])\n",
        "    l_sum += l\n",
        "  all_w.append(w)\n",
        "  all_loss.append(l_sum / len(y_data))"
      ],
      "metadata": {
        "id": "Po72RaMfPN3b"
      },
      "execution_count": 6,
      "outputs": []
    },
    {
      "cell_type": "code",
      "source": [
        "plt.stem(all_w, all_loss)\n",
        "plt.xlabel(\"weight\")\n",
        "plt.ylabel(\"loss\")"
      ],
      "metadata": {
        "colab": {
          "base_uri": "https://localhost:8080/",
          "height": 467
        },
        "id": "t_ZeHgBvP0-g",
        "outputId": "32358e93-1032-4937-b737-359a70eddfbf"
      },
      "execution_count": 7,
      "outputs": [
        {
          "output_type": "execute_result",
          "data": {
            "text/plain": [
              "Text(0, 0.5, 'loss')"
            ]
          },
          "metadata": {},
          "execution_count": 7
        },
        {
          "output_type": "display_data",
          "data": {
            "text/plain": [
              "<Figure size 640x480 with 1 Axes>"
            ],
            "image/png": "[encoded data removed]"
          },
          "metadata": {}
        }
      ]
    },
    {
      "cell_type": "code",
      "source": [
        "x_torch = torch.FloatTensor(x_data).reshape(-1, 1)\n",
        "y_torch = torch.FloatTensor(y_data).reshape(-1, 1)"
      ],
      "metadata": {
        "id": "y4pSCArbQmIr"
      },
      "execution_count": 8,
      "outputs": []
    },
    {
      "cell_type": "code",
      "source": [
        "w = torch.tensor(5., requires_grad=True)\n",
        "b = torch.tensor(3., requires_grad=True)\n",
        "lr = 0.05\n",
        "epochs = 1000"
      ],
      "metadata": {
        "id": "BRELLTc1SEeI"
      },
      "execution_count": 9,
      "outputs": []
    },
    {
      "cell_type": "code",
      "source": [
        "for i in range(epochs):\n",
        "  y_hat = x_torch * w + b\n",
        "  squred_diff = torch.pow(y_torch - y_hat, 2)\n",
        "  loss = torch.sum(squred_diff / len(y_torch))\n",
        "  loss.backward()\n",
        "  with torch.no_grad():\n",
        "    w -= lr * w.grad\n",
        "    b -= lr * b.grad\n",
        "\n",
        "    w.grad.zero_()\n",
        "    b.grad.zero_()\n"
      ],
      "metadata": {
        "id": "1I3KwgzqSTUW"
      },
      "execution_count": 10,
      "outputs": []
    },
    {
      "cell_type": "code",
      "source": [
        "y_pred = x_torch * w + b"
      ],
      "metadata": {
        "id": "dz3v7IFkTSck"
      },
      "execution_count": 11,
      "outputs": []
    },
    {
      "cell_type": "code",
      "source": [
        "plt.plot(x_torch, y_torch, 'go')\n",
        "plt.plot(x_torch, y_pred.detach().numpy(), '--')"
      ],
      "metadata": {
        "colab": {
          "base_uri": "https://localhost:8080/",
          "height": 448
        },
        "id": "qicCiOKZU3EK",
        "outputId": "dcad459c-7f30-4f3c-aba6-894b8c7383aa"
      },
      "execution_count": 12,
      "outputs": [
        {
          "output_type": "execute_result",
          "data": {
            "text/plain": [
              "[<matplotlib.lines.Line2D at 0x7d6c7c3505b0>]"
            ]
          },
          "metadata": {},
          "execution_count": 12
        },
        {
          "output_type": "display_data",
          "data": {
            "text/plain": [
              "<Figure size 640x480 with 1 Axes>"
            ],
            "image/png": "[encoded data removed]"
          },
          "metadata": {}
        }
      ]
    },
    {
      "cell_type": "code",
      "source": [
        "print(w, b)"
      ],
      "metadata": {
        "colab": {
          "base_uri": "https://localhost:8080/"
        },
        "id": "jBcEKHvnU6_f",
        "outputId": "de0fcc85-8f87-4c04-b160-4061b59c8f53"
      },
      "execution_count": 13,
      "outputs": [
        {
          "output_type": "stream",
          "name": "stdout",
          "text": [
            "tensor(2.0000, requires_grad=True) tensor(-0.0050, requires_grad=True)\n"
          ]
        }
      ]
    },
    {
      "cell_type": "code",
      "source": [
        "x_test = torch.Tensor([3.5])\n",
        "pred = x_test * w + b\n",
        "print(pred)"
      ],
      "metadata": {
        "colab": {
          "base_uri": "https://localhost:8080/"
        },
        "id": "w8yr5EiOViD5",
        "outputId": "555f887f-f4cf-4ca7-d58d-638dd6ce2500"
      },
      "execution_count": 14,
      "outputs": [
        {
          "output_type": "execute_result",
          "data": {
            "text/plain": [
              "tensor([6.9950], grad_fn=<AddBackward0>)"
            ]
          },
          "metadata": {},
          "execution_count": 14
        }
      ]
    },
    {
      "cell_type": "code",
      "source": [],
      "metadata": {
        "id": "j24TYK2PVsZV"
      },
      "execution_count": null,
      "outputs": []
    }
  ]
}